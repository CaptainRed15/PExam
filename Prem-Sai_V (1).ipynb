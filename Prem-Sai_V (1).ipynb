{
 "cells": [
  {
   "cell_type": "code",
   "execution_count": 89,
   "metadata": {
    "colab": {
     "base_uri": "https://localhost:8080/"
    },
    "id": "elvo4bpuGrOQ",
    "outputId": "a69a0517-7368-4966-f827-9506b64b2616"
   },
   "outputs": [
    {
     "name": "stdout",
     "output_type": "stream",
     "text": [
      "oneeeee\n"
     ]
    }
   ],
   "source": [
    "def printValue(s1,s2):\n",
    "\tlen1 = len(s1)\n",
    "\tlen2 = len(s2)\n",
    "\tif len1 > len2:\n",
    "\t\tprint (s1)\n",
    "\telif len2 > len1:\n",
    "\t\tprint (s2)\n",
    "\telse:\n",
    "\t\tprint (s1)\n",
    "\t\tprint (s2)\n",
    "\n",
    "printValue(\"oneeeee\",\"three\")"
   ]
  },
  {
   "cell_type": "markdown",
   "metadata": {
    "id": "ncfJHcWWGEtX"
   },
   "source": [
    "answer35"
   ]
  },
  {
   "cell_type": "code",
   "execution_count": 85,
   "metadata": {
    "colab": {
     "base_uri": "https://localhost:8080/"
    },
    "id": "CQVt3aREB_Ui",
    "outputId": "aa786afe-bc82-4314-f7eb-a56cce4366b5"
   },
   "outputs": [
    {
     "name": "stdout",
     "output_type": "stream",
     "text": [
      "(1, 2, 3, 4, 5)\n",
      "(6, 7, 8, 9, 10)\n"
     ]
    }
   ],
   "source": [
    "tuple = (1,2,3,4,5,6,7,8,9,10)\n",
    "tuple1 = tuple[:5]\n",
    "tuple2 = tuple[5:]\n",
    "print (tuple1)\n",
    "print (tuple2)"
   ]
  },
  {
   "cell_type": "markdown",
   "metadata": {
    "id": "HV2P2gJEB9Ff"
   },
   "source": [
    "answer38"
   ]
  },
  {
   "cell_type": "code",
   "execution_count": 64,
   "metadata": {
    "colab": {
     "base_uri": "https://localhost:8080/"
    },
    "id": "1yQqSAjs_ib-",
    "outputId": "dcbdc5eb-ae15-4924-8f52-92e68ef865ae"
   },
   "outputs": [
    {
     "name": "stdout",
     "output_type": "stream",
     "text": [
      "[1, 4, 9, 16, 25, 36, 49, 64, 81, 100]\n"
     ]
    }
   ],
   "source": [
    "list1 = [1,2,3,4,5,6,7,8,9,10]\n",
    "num1 = map(lambda x: x**2, list1)\n",
    "print(list(num1))  "
   ]
  },
  {
   "cell_type": "markdown",
   "metadata": {
    "id": "kPQNlZ5G_gjZ"
   },
   "source": [
    "answer41"
   ]
  },
  {
   "cell_type": "code",
   "execution_count": 62,
   "metadata": {
    "colab": {
     "base_uri": "https://localhost:8080/"
    },
    "id": "RuWK6ylq_B-X",
    "outputId": "96b8cf13-20a4-414d-d0f6-ce1a9818f059"
   },
   "outputs": [
    {
     "name": "stdout",
     "output_type": "stream",
     "text": [
      "[4, 16, 36, 64, 100]\n"
     ]
    }
   ],
   "source": [
    "def even(x):\n",
    "    return x%2==0\n",
    "\n",
    "def square(x):\n",
    "    return x*x\n",
    "\n",
    "list1 = [1,2,3,4,5,6,7,8,9,10]\n",
    "list1 = map(square,filter(even,list1))\n",
    "print(list(list1))"
   ]
  },
  {
   "cell_type": "markdown",
   "metadata": {
    "id": "ZR2MXYAm_AII"
   },
   "source": [
    "answer42"
   ]
  },
  {
   "cell_type": "code",
   "execution_count": 59,
   "metadata": {
    "colab": {
     "base_uri": "https://localhost:8080/"
    },
    "id": "GG-5Ancs941i",
    "outputId": "1bfd85ea-62f6-430d-bfd1-270306ae8515"
   },
   "outputs": [
    {
     "name": "stdout",
     "output_type": "stream",
     "text": [
      "[2, 4, 6, 8, 10, 12, 14, 16, 18, 20]\n"
     ]
    }
   ],
   "source": [
    "def even(x):\n",
    "    return x%2==0\n",
    "num = filter(even, range(1,21))\n",
    "print(list(num))"
   ]
  },
  {
   "cell_type": "markdown",
   "metadata": {
    "id": "2bBLKdFk91m-"
   },
   "source": [
    "answer43"
   ]
  },
  {
   "cell_type": "code",
   "execution_count": 58,
   "metadata": {
    "colab": {
     "base_uri": "https://localhost:8080/"
    },
    "id": "AMlvqthw9oSk",
    "outputId": "5673c547-a923-48f9-c56b-40238a4bf037"
   },
   "outputs": [
    {
     "name": "stdout",
     "output_type": "stream",
     "text": [
      "[1, 4, 9, 16, 25, 36, 49, 64, 81, 100, 121, 144, 169, 196, 225, 256, 289, 324, 361, 400]\n"
     ]
    }
   ],
   "source": [
    "def sqr(x):\n",
    "    return x*x\n",
    "\n",
    "squaredNumbers = list(map(sqr, range(1,21)))\n",
    "print (squaredNumbers)"
   ]
  },
  {
   "cell_type": "markdown",
   "metadata": {
    "id": "k4ZpH7EW8wxu"
   },
   "source": [
    "*answer44"
   ]
  },
  {
   "cell_type": "code",
   "execution_count": 57,
   "metadata": {
    "colab": {
     "base_uri": "https://localhost:8080/"
    },
    "id": "m4DefMyX8i9s",
    "outputId": "06694597-604b-49a3-d1f1-95370a79e2c3"
   },
   "outputs": [
    {
     "name": "stdout",
     "output_type": "stream",
     "text": [
      "this is method American\n"
     ]
    }
   ],
   "source": [
    "class American():\n",
    "    @staticmethod\n",
    "    def printNationality():\n",
    "        print(\"this is method American\")\n",
    "\n",
    "american = American()\n",
    "american.printNationality()   \n",
    " "
   ]
  },
  {
   "cell_type": "markdown",
   "metadata": {
    "id": "uvVQyfXq8glD"
   },
   "source": [
    "answer45"
   ]
  },
  {
   "cell_type": "code",
   "execution_count": 55,
   "metadata": {
    "colab": {
     "base_uri": "https://localhost:8080/"
    },
    "id": "cbjru5ND8PDi",
    "outputId": "c9bd75df-0fb0-447e-8476-7f5552a34c4f"
   },
   "outputs": [
    {
     "name": "stdout",
     "output_type": "stream",
     "text": [
      "<__main__.American object at 0x7fdc3f0a1810>\n",
      "<__main__.NewYorker object at 0x7fdc3f0ec250>\n"
     ]
    }
   ],
   "source": [
    "class American():\n",
    "    pass\n",
    "\n",
    "class NewYorker(American):\n",
    "    pass\n",
    "\n",
    "american = American()\n",
    "newyorker = NewYorker()\n",
    "\n",
    "print(american)\n",
    "print(newyorker)"
   ]
  },
  {
   "cell_type": "markdown",
   "metadata": {
    "id": "_4NiSnGV8L28"
   },
   "source": [
    "answer46"
   ]
  },
  {
   "cell_type": "code",
   "execution_count": 54,
   "metadata": {
    "colab": {
     "base_uri": "https://localhost:8080/"
    },
    "id": "TDE1FeCG8E97",
    "outputId": "f09ce852-05b2-4888-87b9-462433786151"
   },
   "outputs": [
    {
     "name": "stdout",
     "output_type": "stream",
     "text": [
      "153.909\n"
     ]
    }
   ],
   "source": [
    "class Circle():\n",
    "    def __init__(self,r):\n",
    "        self.radius = r\n",
    "\n",
    "    def area(self):\n",
    "        return 3.141*(self.radius**2)\n",
    "\n",
    "\n",
    "circle = Circle(7)\n",
    "print(circle.area())"
   ]
  },
  {
   "cell_type": "markdown",
   "metadata": {
    "id": "GNzAFrdN8Etv"
   },
   "source": [
    "answer47"
   ]
  },
  {
   "cell_type": "code",
   "execution_count": 53,
   "metadata": {
    "colab": {
     "base_uri": "https://localhost:8080/"
    },
    "id": "3iAlR-HY7bo-",
    "outputId": "ba424eb8-18b6-42ca-c7a2-cc9ad988782f"
   },
   "outputs": [
    {
     "name": "stdout",
     "output_type": "stream",
     "text": [
      "64\n",
      "0\n"
     ]
    }
   ],
   "source": [
    "class Shape():\n",
    "    def __init__(self):\n",
    "        pass\n",
    "\n",
    "    def area(self):\n",
    "        return 0\n",
    "\n",
    "class Square(Shape):\n",
    "    def __init__(self,length = 0):\n",
    "        Shape.__init__(self)\n",
    "        self.length = length\n",
    "\n",
    "    def area(self):\n",
    "        return self.length*self.length\n",
    "\n",
    "Asqr = Square(8)\n",
    "print(Asqr.area())      \n",
    "\n",
    "print(Square().area())"
   ]
  },
  {
   "cell_type": "markdown",
   "metadata": {
    "id": "7n8qgfJ-7cWs"
   },
   "source": [
    "answer48"
   ]
  },
  {
   "cell_type": "code",
   "execution_count": 52,
   "metadata": {
    "colab": {
     "base_uri": "https://localhost:8080/"
    },
    "id": "GMOlmYTg6hQ4",
    "outputId": "1e9e46d1-7034-438d-e7ef-bb117bbff45d"
   },
   "outputs": [
    {
     "name": "stdout",
     "output_type": "stream",
     "text": [
      "200.96\n"
     ]
    }
   ],
   "source": [
    "class Circle():\n",
    "    def __init__(self,r):\n",
    "        self.radius = r\n",
    "\n",
    "    def area(self):\n",
    "        return 3.14*(self.radius**2)\n",
    "\n",
    "\n",
    "circle = Circle(8)\n",
    "print(circle.area())"
   ]
  },
  {
   "cell_type": "markdown",
   "metadata": {
    "id": "CHmSx7kh6egn"
   },
   "source": [
    "answer49"
   ]
  },
  {
   "cell_type": "code",
   "execution_count": 90,
   "metadata": {
    "colab": {
     "base_uri": "https://localhost:8080/",
     "height": 165
    },
    "id": "84hln57oJVxW",
    "outputId": "2b72d64e-3540-42d1-eaf1-3107ffabee5c"
   },
   "outputs": [
    {
     "ename": "RuntimeError",
     "evalue": "ignored",
     "output_type": "error",
     "traceback": [
      "\u001b[0;31m---------------------------------------------------------------------------\u001b[0m",
      "\u001b[0;31mRuntimeError\u001b[0m                              Traceback (most recent call last)",
      "\u001b[0;32m<ipython-input-90-53fba0153627>\u001b[0m in \u001b[0;36m<module>\u001b[0;34m()\u001b[0m\n\u001b[0;32m----> 1\u001b[0;31m \u001b[0;32mraise\u001b[0m \u001b[0mRuntimeError\u001b[0m\u001b[0;34m(\u001b[0m\u001b[0;34m'something wrong'\u001b[0m\u001b[0;34m)\u001b[0m\u001b[0;34m\u001b[0m\u001b[0;34m\u001b[0m\u001b[0m\n\u001b[0m",
      "\u001b[0;31mRuntimeError\u001b[0m: something wrong"
     ]
    }
   ],
   "source": [
    "raise RuntimeError('something wrong')"
   ]
  },
  {
   "cell_type": "markdown",
   "metadata": {
    "id": "7cmxSZEoJWo0"
   },
   "source": [
    "answer50"
   ]
  },
  {
   "cell_type": "code",
   "execution_count": 49,
   "metadata": {
    "colab": {
     "base_uri": "https://localhost:8080/"
    },
    "id": "FHUrMk_dW7e6",
    "outputId": "1c147eae-d4a1-4f70-bb6f-4475f1cbcb21"
   },
   "outputs": [
    {
     "name": "stdout",
     "output_type": "stream",
     "text": [
      "division by zero error\n",
      "finally block\n"
     ]
    }
   ],
   "source": [
    "def throws():\n",
    "    return 5/0\n",
    "\n",
    "try:\n",
    "    throws()\n",
    "except ZeroDivisionError:\n",
    "    print (\"division by zero error\")\n",
    "except Exception as err:\n",
    "    print (\"Caught an exception\")\n",
    "finally:\n",
    "    print (\"finally block\")"
   ]
  },
  {
   "cell_type": "markdown",
   "metadata": {
    "id": "pCWO_lSPcnxd"
   },
   "source": [
    "#answer 51\n",
    "\n",
    "```\n",
    "# This is formatted as code\n",
    "```\n",
    "\n"
   ]
  },
  {
   "cell_type": "code",
   "execution_count": 5,
   "metadata": {
    "id": "KoV8o4zFd4JU"
   },
   "outputs": [],
   "source": [
    "class MyError(Exception):\n",
    "    \"\"\"My own exception class\n",
    "\n",
    "    \"\"\"\n",
    "\n",
    "    def __init__(self, msg):\n",
    "        self.msg = msg\n",
    "\n",
    "error = MyError(\"something wrong\")"
   ]
  },
  {
   "cell_type": "markdown",
   "metadata": {
    "id": "t4B49O7qd31c"
   },
   "source": []
  },
  {
   "cell_type": "markdown",
   "metadata": {
    "id": "S7ycC2xmdZrP"
   },
   "source": [
    "#**answer52**"
   ]
  },
  {
   "cell_type": "code",
   "execution_count": 46,
   "metadata": {
    "colab": {
     "base_uri": "https://localhost:8080/"
    },
    "id": "QsoL1rRi3_EB",
    "outputId": "b298cd1a-9f0d-46b5-e79c-aaeede346f13"
   },
   "outputs": [
    {
     "name": "stdout",
     "output_type": "stream",
     "text": [
      "['john']\n"
     ]
    }
   ],
   "source": [
    "import re\n",
    "\n",
    "email = \"john@google.com\"\n",
    "pattern = \"(\\w+)@\\w+.com\"\n",
    "ans = re.findall(pattern,email)\n",
    "print(ans)"
   ]
  },
  {
   "cell_type": "markdown",
   "metadata": {
    "id": "xE7VMsEG4CEN"
   },
   "source": [
    "answer53"
   ]
  },
  {
   "cell_type": "code",
   "execution_count": 4,
   "metadata": {
    "id": "vhPiKFrNdc2u"
   },
   "outputs": [],
   "source": []
  },
  {
   "cell_type": "code",
   "execution_count": 48,
   "metadata": {
    "colab": {
     "base_uri": "https://localhost:8080/"
    },
    "id": "248HorQVd7ir",
    "outputId": "0fcc59bd-44e7-4e34-e684-b93d426acc32"
   },
   "outputs": [
    {
     "name": "stdout",
     "output_type": "stream",
     "text": [
      "['google']\n"
     ]
    }
   ],
   "source": [
    "\n",
    "\n",
    "import re\n",
    "\n",
    "email = \"john@google.com \"\n",
    "pattern = \"\\w+@(\\w+).com\"\n",
    "ans = re.findall(pattern,email)\n",
    "print(ans)"
   ]
  },
  {
   "cell_type": "markdown",
   "metadata": {
    "id": "PP07qS3EeWm0"
   },
   "source": [
    "#answer54"
   ]
  },
  {
   "cell_type": "code",
   "execution_count": 9,
   "metadata": {
    "colab": {
     "base_uri": "https://localhost:8080/"
    },
    "id": "BiPrTrUteZz8",
    "outputId": "3ce2b416-71d3-4ab5-e0fc-5e0bc0279b89"
   },
   "outputs": [
    {
     "name": "stdout",
     "output_type": "stream",
     "text": [
      "2 cat 3 dog\n",
      "['2', '3']\n"
     ]
    }
   ],
   "source": [
    "sentence = input().split()\n",
    "ans = [sentence for sentence in sentence if sentence.isdigit()] \n",
    "print(ans)"
   ]
  },
  {
   "cell_type": "markdown",
   "metadata": {
    "id": "2GsuqICthqiM"
   },
   "source": [
    "answer55"
   ]
  },
  {
   "cell_type": "code",
   "execution_count": 11,
   "metadata": {
    "colab": {
     "base_uri": "https://localhost:8080/"
    },
    "id": "iv9Tokfths_P",
    "outputId": "c0aae394-5fa9-4e49-880e-e8f3544f6c33"
   },
   "outputs": [
    {
     "name": "stdout",
     "output_type": "stream",
     "text": [
      "hello suba!\n"
     ]
    }
   ],
   "source": [
    "unicodeString = u\"hello suba!\"\n",
    "print (unicodeString)"
   ]
  },
  {
   "cell_type": "markdown",
   "metadata": {
    "id": "yEiBA6CAh8vs"
   },
   "source": [
    "answer56"
   ]
  },
  {
   "cell_type": "code",
   "execution_count": 12,
   "metadata": {
    "colab": {
     "base_uri": "https://localhost:8080/"
    },
    "id": "JGzXRw6ViULz",
    "outputId": "84b2535c-e20b-4945-890d-a4b21c67b613"
   },
   "outputs": [
    {
     "name": "stdout",
     "output_type": "stream",
     "text": [
      "suba\n",
      "b'suba'\n"
     ]
    }
   ],
   "source": [
    "sen = input()\n",
    "out = sen.encode('utf-8')\n",
    "print(out)"
   ]
  },
  {
   "cell_type": "markdown",
   "metadata": {
    "id": "cWgiwkvuixDF"
   },
   "source": [
    "answer57"
   ]
  },
  {
   "cell_type": "code",
   "execution_count": 13,
   "metadata": {
    "id": "O9REyQkbizrs"
   },
   "outputs": [],
   "source": [
    "# -*- coding: utf-8 -*-"
   ]
  },
  {
   "cell_type": "markdown",
   "metadata": {
    "id": "bHtJb1kvjGa7"
   },
   "source": [
    "answer58"
   ]
  },
  {
   "cell_type": "code",
   "execution_count": 14,
   "metadata": {
    "colab": {
     "base_uri": "https://localhost:8080/"
    },
    "id": "plhejaGyjJML",
    "outputId": "cbf375c5-f863-4ad9-a22a-b523f91ad7f2"
   },
   "outputs": [
    {
     "name": "stdout",
     "output_type": "stream",
     "text": [
      "5\n",
      "3.55\n"
     ]
    }
   ],
   "source": [
    "num = int(input())\n",
    "sum = 0\n",
    "for i in range(1, num+1):\n",
    "    sum+= i/(i+1)\n",
    "print(round(sum, 2))"
   ]
  },
  {
   "cell_type": "markdown",
   "metadata": {
    "id": "NyEhSzUUmbIu"
   },
   "source": [
    "answer59"
   ]
  },
  {
   "cell_type": "code",
   "execution_count": 15,
   "metadata": {
    "colab": {
     "base_uri": "https://localhost:8080/"
    },
    "id": "_J6NV6ldmeu0",
    "outputId": "1a29e95c-9d4b-4f6d-83ad-8d0d8a0baaa4"
   },
   "outputs": [
    {
     "name": "stdout",
     "output_type": "stream",
     "text": [
      "5\n",
      "500\n"
     ]
    }
   ],
   "source": [
    "def fun(n):\n",
    "    if n == 0:\n",
    "        return 0\n",
    "    return fun(n-1) + 100\n",
    "\n",
    "n = int(input())\n",
    "print(fun(n))"
   ]
  },
  {
   "cell_type": "markdown",
   "metadata": {
    "id": "uEXXnjJ6moqz"
   },
   "source": [
    "answer 60"
   ]
  },
  {
   "cell_type": "code",
   "execution_count": 16,
   "metadata": {
    "colab": {
     "base_uri": "https://localhost:8080/"
    },
    "id": "ZRFKqO0imrk0",
    "outputId": "d293b183-f0c2-4db9-c145-63f7dd7a6ec3"
   },
   "outputs": [
    {
     "name": "stdout",
     "output_type": "stream",
     "text": [
      "7\n",
      "13\n"
     ]
    }
   ],
   "source": [
    "def fun(n):\n",
    "    if n < 2:\n",
    "        return n\n",
    "    return fun(n-1) + fun(n-2)\n",
    "\n",
    "n = int(input())\n",
    "print(fun(n))"
   ]
  },
  {
   "cell_type": "markdown",
   "metadata": {
    "id": "4SwOHXPnm2ar"
   },
   "source": [
    "answer61\n"
   ]
  },
  {
   "cell_type": "code",
   "execution_count": 17,
   "metadata": {
    "colab": {
     "base_uri": "https://localhost:8080/"
    },
    "id": "K1V6LESsm4JT",
    "outputId": "bfeded32-6872-4fb1-f3ac-6c9e7333dceb"
   },
   "outputs": [
    {
     "name": "stdout",
     "output_type": "stream",
     "text": [
      "7\n",
      "0,1,1,2,3,5,8,13\n"
     ]
    }
   ],
   "source": [
    "def fibo(n):\n",
    "    if n < 2:\n",
    "      return n\n",
    "    else:\n",
    "\t    return fibo(n-1)+fibo(n-2)\n",
    "\n",
    "def print_fiblist(n):\n",
    "    fib_list = [(str(fibo(i))) for i in range(0, n+1)]\n",
    "    return print(\",\".join(fib_list))\n",
    "n = int(input())\n",
    "print_fiblist(n)"
   ]
  },
  {
   "cell_type": "markdown",
   "metadata": {
    "id": "WkJFv60Pn0am"
   },
   "source": [
    "answer62"
   ]
  },
  {
   "cell_type": "code",
   "execution_count": 18,
   "metadata": {
    "colab": {
     "base_uri": "https://localhost:8080/"
    },
    "id": "Qhw_7s17n3wU",
    "outputId": "f8ebd4fd-1d50-41a5-ea8a-77020a42a0a8"
   },
   "outputs": [
    {
     "name": "stdout",
     "output_type": "stream",
     "text": [
      "10\n",
      "0,2,4,6,8,10\n"
     ]
    }
   ],
   "source": [
    "n = int(input())\n",
    "\n",
    "for i in range(0, n+1, 2):\n",
    "  if i < n - 1:\n",
    "    print(i, end = ',' )\n",
    "  else:\n",
    "    print(i)"
   ]
  },
  {
   "cell_type": "markdown",
   "metadata": {
    "id": "JUGHlGKOoOq0"
   },
   "source": [
    "answer63"
   ]
  },
  {
   "cell_type": "code",
   "execution_count": 19,
   "metadata": {
    "colab": {
     "base_uri": "https://localhost:8080/"
    },
    "id": "gy0FalK0oS50",
    "outputId": "4df106af-32ca-45c8-cd88-3bfc6a47d913"
   },
   "outputs": [
    {
     "name": "stdout",
     "output_type": "stream",
     "text": [
      "100\n",
      "0,35,70\n"
     ]
    }
   ],
   "source": [
    "def function(n):\n",
    "    for i in range(n+1):\n",
    "        if i % 35 == 0:   \n",
    "            yield i\n",
    "\n",
    "n = int(input())\n",
    "com = [str(i) for i in function(n)]\n",
    "print(\",\".join(com))"
   ]
  },
  {
   "cell_type": "markdown",
   "metadata": {
    "id": "SR-V8vIuoqoE"
   },
   "source": [
    "answer64"
   ]
  },
  {
   "cell_type": "code",
   "execution_count": 21,
   "metadata": {
    "id": "rf785eyAosCk"
   },
   "outputs": [],
   "source": [
    "list1 = [2,4,6,8,10]\n",
    "for i in list1:\n",
    "    assert i%2==0"
   ]
  },
  {
   "cell_type": "markdown",
   "metadata": {
    "id": "X-JHarD-pOzU"
   },
   "source": [
    "answer65"
   ]
  },
  {
   "cell_type": "code",
   "execution_count": 22,
   "metadata": {
    "colab": {
     "base_uri": "https://localhost:8080/"
    },
    "id": "uglx4M0epQBz",
    "outputId": "4d151fa6-5672-4667-b07f-2c17da2aaea0"
   },
   "outputs": [
    {
     "name": "stdout",
     "output_type": "stream",
     "text": [
      "35+3\n",
      "38\n"
     ]
    }
   ],
   "source": [
    "input = input()\n",
    "ans = eval(input)\n",
    "print(ans)"
   ]
  },
  {
   "cell_type": "markdown",
   "metadata": {
    "id": "mkDzXzaxphfk"
   },
   "source": [
    "answer66"
   ]
  },
  {
   "cell_type": "code",
   "execution_count": 23,
   "metadata": {
    "colab": {
     "base_uri": "https://localhost:8080/"
    },
    "id": "JAegtKAtpiuX",
    "outputId": "5a21bc49-a820-4fb8-d59e-0aae3c5e7f8b"
   },
   "outputs": [
    {
     "name": "stdout",
     "output_type": "stream",
     "text": [
      "None\n"
     ]
    }
   ],
   "source": [
    "def binary(lst, num):\n",
    "    low = 0\n",
    "    high = len(lst) - 1\n",
    "    \n",
    "    while low <= high:\n",
    "        mid = round((low + high) / 2)\n",
    "        \n",
    "        if lst[mid] == num:\n",
    "            return mid\n",
    "        elif lst[mid] > num:\n",
    "            high = mid - 1\n",
    "        else:\n",
    "            low = mid + 1\n",
    "    return None\n",
    "    \n",
    "lst = [1,7,8,9,10]\n",
    "print(binary(lst, 6))   "
   ]
  },
  {
   "cell_type": "markdown",
   "metadata": {
    "id": "__-94BbJqaNd"
   },
   "source": [
    "answer67"
   ]
  },
  {
   "cell_type": "code",
   "execution_count": 24,
   "metadata": {
    "colab": {
     "base_uri": "https://localhost:8080/"
    },
    "id": "-b4REhMTqbuD",
    "outputId": "9b4fe081-d5ac-4ae4-c4df-8d243da82027"
   },
   "outputs": [
    {
     "name": "stdout",
     "output_type": "stream",
     "text": [
      "83.35564671995891\n"
     ]
    }
   ],
   "source": [
    "import random\n",
    "randomnum = random.uniform(10,100)\n",
    "print(randomnum)"
   ]
  },
  {
   "cell_type": "markdown",
   "metadata": {
    "id": "KM_6172sqkQM"
   },
   "source": [
    "answer68"
   ]
  },
  {
   "cell_type": "code",
   "execution_count": 25,
   "metadata": {
    "colab": {
     "base_uri": "https://localhost:8080/"
    },
    "id": "4NUyuHv2qlnl",
    "outputId": "265ff3fd-0e19-42b2-9d2b-7cd56fe4f09c"
   },
   "outputs": [
    {
     "name": "stdout",
     "output_type": "stream",
     "text": [
      "84.70535578197637\n"
     ]
    }
   ],
   "source": [
    "import random\n",
    "print (random.random()*100-5)\n"
   ]
  },
  {
   "cell_type": "markdown",
   "metadata": {
    "id": "JJOoZaizq3AM"
   },
   "source": [
    "answer69"
   ]
  },
  {
   "cell_type": "code",
   "execution_count": 27,
   "metadata": {
    "colab": {
     "base_uri": "https://localhost:8080/"
    },
    "id": "Fr2BGJATrcus",
    "outputId": "0092e107-dd3d-4d1c-81f9-b777270aad6e"
   },
   "outputs": [
    {
     "name": "stdout",
     "output_type": "stream",
     "text": [
      "10\n"
     ]
    }
   ],
   "source": [
    "import random\n",
    "out = [i for i in range(0,11,2)]\n",
    "print(random.choice(out))\n"
   ]
  },
  {
   "cell_type": "markdown",
   "metadata": {
    "id": "N0d9qCFOruFz"
   },
   "source": [
    "answer70"
   ]
  },
  {
   "cell_type": "code",
   "execution_count": 28,
   "metadata": {
    "colab": {
     "base_uri": "https://localhost:8080/"
    },
    "id": "Xc4cHZYWrwPz",
    "outputId": "030c2ac6-2b1f-4939-ed40-11f62eb1b0ff"
   },
   "outputs": [
    {
     "name": "stdout",
     "output_type": "stream",
     "text": [
      "105\n"
     ]
    }
   ],
   "source": [
    "import random\n",
    "out = [i for i in range(10,151) if i % 35 == 0 ]\n",
    "print(random.choice(out))"
   ]
  },
  {
   "cell_type": "markdown",
   "metadata": {
    "id": "SUPKG_Qnr9Z0"
   },
   "source": [
    "answer71"
   ]
  },
  {
   "cell_type": "code",
   "execution_count": 31,
   "metadata": {
    "colab": {
     "base_uri": "https://localhost:8080/"
    },
    "id": "T2rpEwDwr-6O",
    "outputId": "2048e2de-be39-4d23-d650-086de22b1050"
   },
   "outputs": [
    {
     "name": "stdout",
     "output_type": "stream",
     "text": [
      "[118, 169, 121, 135, 124]\n"
     ]
    }
   ],
   "source": [
    "import random\n",
    "print (random.sample(range(100,201), 5))"
   ]
  },
  {
   "cell_type": "markdown",
   "metadata": {
    "id": "aEURlLSesMQr"
   },
   "source": [
    "answer72"
   ]
  },
  {
   "cell_type": "code",
   "execution_count": 32,
   "metadata": {
    "colab": {
     "base_uri": "https://localhost:8080/"
    },
    "id": "avkmSopcsNuT",
    "outputId": "182d0596-d15c-46f0-a294-180b7a24518b"
   },
   "outputs": [
    {
     "name": "stdout",
     "output_type": "stream",
     "text": [
      "[152, 198, 196, 192, 136]\n"
     ]
    }
   ],
   "source": [
    "import random\n",
    "out = random.sample(range(100,201,2),5)\n",
    "print(out)"
   ]
  },
  {
   "cell_type": "markdown",
   "metadata": {
    "id": "Oq3kve6ysYPz"
   },
   "source": [
    "answer73"
   ]
  },
  {
   "cell_type": "code",
   "execution_count": 33,
   "metadata": {
    "colab": {
     "base_uri": "https://localhost:8080/"
    },
    "id": "Prfdjo1FsaAb",
    "outputId": "23684f2c-bb9b-4b59-9385-2762d3f0a0af"
   },
   "outputs": [
    {
     "name": "stdout",
     "output_type": "stream",
     "text": [
      "[560, 245, 525, 105, 420]\n"
     ]
    }
   ],
   "source": [
    "import random\n",
    "list1 = [i for i in range(1,1001) if i%35 == 0]\n",
    "out = random.sample(list1,5)\n",
    "print(out)"
   ]
  },
  {
   "cell_type": "markdown",
   "metadata": {
    "id": "xJK-dXMDslbU"
   },
   "source": [
    "answer74"
   ]
  },
  {
   "cell_type": "code",
   "execution_count": 34,
   "metadata": {
    "colab": {
     "base_uri": "https://localhost:8080/"
    },
    "id": "xvsJa7IQsmsr",
    "outputId": "140ea45b-bf63-4995-9bd6-65371a7ed26e"
   },
   "outputs": [
    {
     "name": "stdout",
     "output_type": "stream",
     "text": [
      "15\n"
     ]
    }
   ],
   "source": [
    "import random\n",
    "print (random.randrange(7,16))"
   ]
  },
  {
   "cell_type": "markdown",
   "metadata": {
    "id": "OHcU4rzVs2Br"
   },
   "source": [
    "answer75"
   ]
  },
  {
   "cell_type": "code",
   "execution_count": 38,
   "metadata": {
    "colab": {
     "base_uri": "https://localhost:8080/"
    },
    "id": "4OtRjPwts3as",
    "outputId": "ec20637d-4dbd-4784-fb22-7b6fb72b8c8a"
   },
   "outputs": [
    {
     "name": "stdout",
     "output_type": "stream",
     "text": [
      "b'x\\x9c\\xcbH\\xcd\\xc9\\xc9W(\\xcf/\\xcaIQ\\xcc \\x82\\r\\x00\\xbd[\\x11\\xf5'\n",
      "b'hello world!hello world!hello world!hello world!'\n"
     ]
    }
   ],
   "source": [
    "string = 'hello world!hello world!hello world!hello world!'\n",
    "x1 = bytes(s, 'utf-8')\n",
    "x2 = zlib.compress(x1)\n",
    "print(x2)\n",
    "print(zlib.decompress(x2))"
   ]
  },
  {
   "cell_type": "markdown",
   "metadata": {
    "id": "dYkh7mmy1w3f"
   },
   "source": [
    "answer76"
   ]
  },
  {
   "cell_type": "code",
   "execution_count": 40,
   "metadata": {
    "colab": {
     "base_uri": "https://localhost:8080/"
    },
    "id": "ar0MMOH11z12",
    "outputId": "e4686076-f251-4c97-e7fe-f75791fd5e9a"
   },
   "outputs": [
    {
     "name": "stdout",
     "output_type": "stream",
     "text": [
      "8.869171142578125e-05\n"
     ]
    }
   ],
   "source": [
    "import time\n",
    "\n",
    "time1 = time.time()\n",
    "for i in range(100):\n",
    "    x = 1 + 1\n",
    "time2 = time.time()\n",
    "time = time2 - time1\n",
    "print(time)"
   ]
  },
  {
   "cell_type": "markdown",
   "metadata": {
    "id": "va3EWPEB2LIm"
   },
   "source": [
    "answer77"
   ]
  },
  {
   "cell_type": "code",
   "execution_count": 41,
   "metadata": {
    "colab": {
     "base_uri": "https://localhost:8080/"
    },
    "id": "PXJ2zlUD2M02",
    "outputId": "b4a11a7c-d568-4121-b08b-168c760ea48d"
   },
   "outputs": [
    {
     "name": "stdout",
     "output_type": "stream",
     "text": [
      "[6, 3, 7, 8]\n"
     ]
    }
   ],
   "source": [
    "import random\n",
    "list1 = [3,6,7,8]\n",
    "random.shuffle(list1)\n",
    "print(list1)"
   ]
  },
  {
   "cell_type": "markdown",
   "metadata": {
    "id": "0zsy0OjF2XuO"
   },
   "source": [
    "answer78"
   ]
  },
  {
   "cell_type": "code",
   "execution_count": 43,
   "metadata": {
    "colab": {
     "base_uri": "https://localhost:8080/"
    },
    "id": "oWlXUhf92b7V",
    "outputId": "9e66ff37-162e-4725-b017-91478fd53c90"
   },
   "outputs": [
    {
     "name": "stdout",
     "output_type": "stream",
     "text": [
      "I Play Hockey\n",
      "I Play Football\n",
      "I Love Hockey\n",
      "I Love Football\n",
      "You Play Hockey\n",
      "You Play Football\n",
      "You Love Hockey\n",
      "You Love Football\n"
     ]
    }
   ],
   "source": [
    "subjects=[\"I\", \"You\"]\n",
    "verbs=[\"Play\", \"Love\"]\n",
    "objects=[\"Hockey\",\"Football\"]\n",
    "\n",
    "for x in subjects:\n",
    "    for y in verbs:\n",
    "        for z in objects:\n",
    "            print(\"{} {} {}\".format(x,y,z))"
   ]
  },
  {
   "cell_type": "markdown",
   "metadata": {
    "id": "-_Vgqrgt21u8"
   },
   "source": [
    "answer79"
   ]
  },
  {
   "cell_type": "code",
   "execution_count": 44,
   "metadata": {
    "colab": {
     "base_uri": "https://localhost:8080/"
    },
    "id": "9OgtfBK524FT",
    "outputId": "5aa2daee-6e95-4cb9-d299-70169693107d"
   },
   "outputs": [
    {
     "name": "stdout",
     "output_type": "stream",
     "text": [
      "[5, 77, 45]\n"
     ]
    }
   ],
   "source": [
    "list1 = [5,6,77,45,22,12,24]\n",
    "list1 = [x for x in list1 if x%2!=0]\n",
    "print (list1)"
   ]
  },
  {
   "cell_type": "markdown",
   "metadata": {
    "id": "mEuWEJdC3Jnd"
   },
   "source": [
    "answer80"
   ]
  },
  {
   "cell_type": "code",
   "execution_count": 45,
   "metadata": {
    "colab": {
     "base_uri": "https://localhost:8080/"
    },
    "id": "PDhiwgV73Ia0",
    "outputId": "f8ffdd34-4e8a-462c-bc32-f3c2f401211d"
   },
   "outputs": [
    {
     "name": "stdout",
     "output_type": "stream",
     "text": [
      "[12, 24, 88]\n"
     ]
    }
   ],
   "source": [
    "list1 = [12,24,35,70,88,120,155]\n",
    "list1 = [x for x in list1 if x%5!=0 and x%7!=0]\n",
    "print (list1)"
   ]
  },
  {
   "cell_type": "code",
   "execution_count": null,
   "metadata": {
    "id": "3cmilLWCH9dV"
   },
   "outputs": [],
   "source": []
  }
 ],
 "metadata": {
  "colab": {
   "name": "SUBARAKSHANA Y.ipynb",
   "provenance": []
  },
  "kernelspec": {
   "display_name": "Python 3",
   "language": "python",
   "name": "python3"
  },
  "language_info": {
   "codemirror_mode": {
    "name": "ipython",
    "version": 3
   },
   "file_extension": ".py",
   "mimetype": "text/x-python",
   "name": "python",
   "nbconvert_exporter": "python",
   "pygments_lexer": "ipython3",
   "version": "3.8.8"
  }
 },
 "nbformat": 4,
 "nbformat_minor": 1
}
